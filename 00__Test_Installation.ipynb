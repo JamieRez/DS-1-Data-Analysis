{
 "cells": [
  {
   "cell_type": "markdown",
   "metadata": {},
   "source": [
    "<center><img src='img/ms_logo.jpeg' height=40% width=40%></center>\n",
    "\n",
    "<center><h1>Testing your Installation</h1></center>\n",
    "\n",
    "Run the cell below to check that you have all the correct packages installed.  \n",
    "\n",
    "If you get any error messages:\n",
    "\n",
    "1.  go back to your terminal and use conda (or pip, if you're inside a virtual environment) to install the package in question \n",
    "2.  Reopen this notebook and run the cells again.\n",
    "\n"
   ]
  },
  {
   "cell_type": "code",
<<<<<<< HEAD:00_Test_Installation.ipynb
   "execution_count": 4,
   "metadata": {
    "collapsed": true
   },
=======
   "execution_count": null,
   "metadata": {},
>>>>>>> 2cf70e0c287e1743b2aba957523732f68f5fdc7e:00__Test_Installation.ipynb
   "outputs": [],
   "source": [
    "import pandas\n",
    "import numpy\n",
    "import matplotlib\n",
    "import seaborn"
   ]
  },
  {
   "cell_type": "markdown",
   "metadata": {},
   "source": [
    "If these import statements all worked without throwing any error messages, then you're all set! Move on to the first jupyter notebook, `01--Descriptive Statistics.ipynb`."
   ]
  },
  {
   "cell_type": "code",
<<<<<<< HEAD:00_Test_Installation.ipynb
   "execution_count": null,
   "metadata": {
    "collapsed": true
   },
   "outputs": [],
   "source": []
  },
  {
   "cell_type": "code",
   "execution_count": 5,
=======
   "execution_count": 1,
>>>>>>> 2cf70e0c287e1743b2aba957523732f68f5fdc7e:00__Test_Installation.ipynb
   "metadata": {},
   "outputs": [
    {
     "name": "stdout",
     "output_type": "stream",
     "text": [
<<<<<<< HEAD:00_Test_Installation.ipynb
      "Test\n"
=======
      "hi\n"
>>>>>>> 2cf70e0c287e1743b2aba957523732f68f5fdc7e:00__Test_Installation.ipynb
     ]
    }
   ],
   "source": [
<<<<<<< HEAD:00_Test_Installation.ipynb
    "print(\"Test\")"
=======
    "print('hi')"
>>>>>>> 2cf70e0c287e1743b2aba957523732f68f5fdc7e:00__Test_Installation.ipynb
   ]
  },
  {
   "cell_type": "code",
   "execution_count": null,
<<<<<<< HEAD:00_Test_Installation.ipynb
   "metadata": {
    "collapsed": true
   },
=======
   "metadata": {},
>>>>>>> 2cf70e0c287e1743b2aba957523732f68f5fdc7e:00__Test_Installation.ipynb
   "outputs": [],
   "source": []
  }
 ],
 "metadata": {
  "kernelspec": {
   "display_name": "Python 3",
   "language": "python",
   "name": "python3"
  },
  "language_info": {
   "codemirror_mode": {
    "name": "ipython",
    "version": 3
   },
   "file_extension": ".py",
   "mimetype": "text/x-python",
   "name": "python",
   "nbconvert_exporter": "python",
   "pygments_lexer": "ipython3",
   "version": "3.6.3"
  }
 },
 "nbformat": 4,
 "nbformat_minor": 2
}
