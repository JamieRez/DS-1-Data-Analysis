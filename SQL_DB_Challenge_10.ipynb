{
 "cells": [
  {
   "cell_type": "code",
   "execution_count": 158,
   "metadata": {},
   "outputs": [],
   "source": [
    "import numpy as np\n",
    "import pandas as pd\n",
    "import matplotlib.pyplot as plt\n",
    "csvFile = \"./datasets/city-ditties.csv\""
   ]
  },
  {
   "cell_type": "code",
   "execution_count": 159,
   "metadata": {
    "scrolled": true
   },
   "outputs": [
    {
     "data": {
      "text/html": [
       "<div>\n",
       "<style>\n",
       "    .dataframe thead tr:only-child th {\n",
       "        text-align: right;\n",
       "    }\n",
       "\n",
       "    .dataframe thead th {\n",
       "        text-align: left;\n",
       "    }\n",
       "\n",
       "    .dataframe tbody tr th {\n",
       "        vertical-align: top;\n",
       "    }\n",
       "</style>\n",
       "<table border=\"1\" class=\"dataframe\">\n",
       "  <thead>\n",
       "    <tr style=\"text-align: right;\">\n",
       "      <th></th>\n",
       "      <th>raised_amount_usd</th>\n",
       "    </tr>\n",
       "  </thead>\n",
       "  <tbody>\n",
       "    <tr>\n",
       "      <th>count</th>\n",
       "      <td>4.870000e+02</td>\n",
       "    </tr>\n",
       "    <tr>\n",
       "      <th>mean</th>\n",
       "      <td>1.065261e+07</td>\n",
       "    </tr>\n",
       "    <tr>\n",
       "      <th>std</th>\n",
       "      <td>2.337269e+07</td>\n",
       "    </tr>\n",
       "    <tr>\n",
       "      <th>min</th>\n",
       "      <td>5.000000e+03</td>\n",
       "    </tr>\n",
       "    <tr>\n",
       "      <th>25%</th>\n",
       "      <td>1.100000e+06</td>\n",
       "    </tr>\n",
       "    <tr>\n",
       "      <th>50%</th>\n",
       "      <td>3.000000e+06</td>\n",
       "    </tr>\n",
       "    <tr>\n",
       "      <th>75%</th>\n",
       "      <td>1.050000e+07</td>\n",
       "    </tr>\n",
       "    <tr>\n",
       "      <th>max</th>\n",
       "      <td>2.000000e+08</td>\n",
       "    </tr>\n",
       "  </tbody>\n",
       "</table>\n",
       "</div>"
      ],
      "text/plain": [
       "       raised_amount_usd\n",
       "count       4.870000e+02\n",
       "mean        1.065261e+07\n",
       "std         2.337269e+07\n",
       "min         5.000000e+03\n",
       "25%         1.100000e+06\n",
       "50%         3.000000e+06\n",
       "75%         1.050000e+07\n",
       "max         2.000000e+08"
      ]
     },
     "execution_count": 159,
     "metadata": {},
     "output_type": "execute_result"
    }
   ],
   "source": [
    "companiesDF = pd.read_csv(csvFile)\n",
    "companiesDF.describe()"
   ]
  },
  {
   "cell_type": "code",
   "execution_count": 160,
   "metadata": {},
   "outputs": [
    {
     "data": {
      "text/plain": [
       "(array([ 375.,   40.,   46.,    6.,    7.,    3.,    0.,    0.,    0.,    6.]),\n",
       " array([  5.00000000e+03,   1.12045000e+07,   2.24040000e+07,\n",
       "          3.36035000e+07,   4.48030000e+07,   5.60025000e+07,\n",
       "          6.72020000e+07,   7.84015000e+07,   8.96010000e+07,\n",
       "          1.00800500e+08,   1.12000000e+08]),\n",
       " <a list of 10 Patch objects>)"
      ]
     },
     "execution_count": 160,
     "metadata": {},
     "output_type": "execute_result"
    },
    {
     "data": {
      "image/png": "[encoded data removed]",
      "text/plain": [
       "<matplotlib.figure.Figure at 0x1a23c3be10>"
      ]
     },
     "metadata": {},
     "output_type": "display_data"
    }
   ],
   "source": [
    "fundingDF = companiesDF[companiesDF[\"raised_amount_usd\"] < 150000000][\"raised_amount_usd\"]\n",
    "plt.hist(fundingDF)"
   ]
  },
  {
   "cell_type": "code",
   "execution_count": 161,
   "metadata": {},
   "outputs": [],
   "source": [
    "import random\n",
    "def get_sample(dataset, n=30):\n",
    "     return np.random.choice(dataset, n)\n",
    "\n",
    "def create_sample_distribution(dataset, size=1000):\n",
    "    \"\"\"Creates a dataset of subsample means.  The length of the dataset is specified by the 'size' \n",
    "    keyword argument. Should return the entire sample distribution as a numpy array.  \"\"\"\n",
    "    meanList = []\n",
    "    for i in range(0, size):\n",
    "        sample = get_sample(dataset)\n",
    "        meanList.append(sample.mean())\n",
    "    return np.array(meanList)"
   ]
  },
  {
   "cell_type": "code",
   "execution_count": 162,
   "metadata": {},
   "outputs": [
    {
     "data": {
      "text/plain": [
       "(array([  35.,  177.,  273.,  210.,  156.,   96.,   37.,    6.,    7.,    3.]),\n",
       " array([  2900433.33333333,   4780523.33333333,   6660613.33333333,\n",
       "          8540703.33333333,  10420793.33333333,  12300883.33333333,\n",
       "         14180973.33333333,  16061063.33333333,  17941153.33333333,\n",
       "         19821243.33333333,  21701333.33333333]),\n",
       " <a list of 10 Patch objects>)"
      ]
     },
     "execution_count": 162,
     "metadata": {},
     "output_type": "execute_result"
    },
    {
     "data": {
      "image/png": "[encoded data removed]",
      "text/plain": [
       "<matplotlib.figure.Figure at 0x1a23c3bc88>"
      ]
     },
     "metadata": {},
     "output_type": "display_data"
    }
   ],
   "source": [
    "samp_dist = create_sample_distribution(fundingDF)\n",
    "plt.hist(samp_dist)"
   ]
  },
  {
   "cell_type": "code",
   "execution_count": 164,
   "metadata": {},
   "outputs": [
    {
     "data": {
      "text/plain": [
       "3.4582989028031363e-08"
      ]
     },
     "execution_count": 164,
     "metadata": {},
     "output_type": "execute_result"
    }
   ],
   "source": [
    "import scipy.stats as scp\n",
    "limit1 = 25000000\n",
    "limit2 = 30000000\n",
    "mean = np.mean(samp_dist)\n",
    "std = np.std(samp_dist)\n",
    "z1 = (limit1 - mean) / std\n",
    "z2 = (limit2 - mean) / std\n",
    "prob2 = scp.norm.cdf(z2)\n",
    "prob1 = scp.norm.cdf(z1)\n",
    "prob = prob2 - prob1\n",
    "prob"
   ]
  },
  {
   "cell_type": "code",
   "execution_count": null,
   "metadata": {
    "collapsed": true
   },
   "outputs": [],
   "source": []
  }
 ],
 "metadata": {
  "kernelspec": {
   "display_name": "Python 3",
   "language": "python",
   "name": "python3"
  },
  "language_info": {
   "codemirror_mode": {
    "name": "ipython",
    "version": 3
   },
   "file_extension": ".py",
   "mimetype": "text/x-python",
   "name": "python",
   "nbconvert_exporter": "python",
   "pygments_lexer": "ipython3",
   "version": "3.6.3"
  }
 },
 "nbformat": 4,
 "nbformat_minor": 2
}
